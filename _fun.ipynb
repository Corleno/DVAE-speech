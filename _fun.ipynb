{
 "cells": [
  {
   "cell_type": "code",
   "execution_count": 1,
   "metadata": {},
   "outputs": [],
   "source": [
    "import IPython.display as ipd\n",
    "import os\n",
    "import numpy as np\n",
    "import matplotlib.pyplot as plt\n",
    "import torch\n",
    "import soundfile as sf\n",
    "import librosa\n",
    "from build_model import build_model\n",
    "from evaluation.loss_mse import rmse_td, rmse_fd, rmse_frame\n",
    "from test_result import resynthesis"
   ]
  },
  {
   "cell_type": "code",
   "execution_count": 2,
   "metadata": {},
   "outputs": [],
   "source": [
    "root_dir = '/Users/xiaoyu/WorkStation/Project_rvae/test_eval'\n",
    "cfg_file = os.path.join(root_dir, 'config.ini')\n",
    "w_file = os.path.join(root_dir, 'RVAE_final_epoch115.pt')\n",
    "audio_file_list = ['/Users/xiaoyu/WorkStation/Project_rvae/Data/clean_speech/wsj0_si_et_05/440/440c0201.wav']"
   ]
  },
  {
   "cell_type": "code",
   "execution_count": 3,
   "metadata": {},
   "outputs": [
    {
     "data": {
      "text/plain": [
       "<Figure size 432x288 with 0 Axes>"
      ]
     },
     "metadata": {},
     "output_type": "display_data"
    }
   ],
   "source": [
    "result_dir, _ = resynthesis(cfg_file, w_file, audio_file_list)\n",
    "\n",
    "print(result_dir)"
   ]
  },
  {
   "cell_type": "code",
   "execution_count": 3,
   "metadata": {},
   "outputs": [],
   "source": [
    "file_orig = os.path.join(root_dir, 'audio_orig.wav')\n",
    "file_recon = os.path.join(root_dir, 'audio_recon.wav')\n",
    "x, _ = sf.read(file_orig)\n",
    "x_recon, _ = sf.read(file_recon)\n",
    "\n",
    "\n",
    "wlen_sec = 64e-3\n",
    "hop_percent = 0.25\n",
    "fs = 16000\n",
    "nfft = np.int(np.power(2, np.ceil(np.log2(wlen_sec * fs))))\n",
    "# window length <= nfft (equal to nfft by default)\n",
    "wlen = nfft\n",
    "# hop: number of audio samples between adjacent STFT columns\n",
    "hop = np.int(hop_percent * wlen)\n",
    "# a vector or array of length nfft (sin function, 0 ~ pi)\n",
    "win = np.sin(np.arange(0.5, wlen+0.5) / wlen * np.pi)\n",
    "\n",
    "print(rmse_td(x, x_recon))\n",
    "print(rmse_fd(x, x_recon, wlen_sec, nfft, hop, wlen, win))\n",
    "print(rmse_frame(x, x_recon, nfft, win))"
   ]
  },
  {
   "cell_type": "code",
   "execution_count": 1,
   "metadata": {},
   "outputs": [],
   "source": [
    "from torch import nn\n",
    "import torch"
   ]
  },
  {
   "cell_type": "code",
   "execution_count": 8,
   "metadata": {},
   "outputs": [
    {
     "name": "stdout",
     "output_type": "stream",
     "text": [
      "torch.Size([3, 4, 5])\n",
      "tensor([[[0., 0., 0., 0., 0.],\n",
      "         [0., 0., 0., 0., 0.],\n",
      "         [0., 0., 0., 0., 0.],\n",
      "         [0., 0., 0., 0., 0.]],\n",
      "\n",
      "        [[1., 1., 1., 1., 1.],\n",
      "         [1., 1., 1., 1., 1.],\n",
      "         [1., 1., 1., 1., 1.],\n",
      "         [1., 1., 1., 1., 1.]],\n",
      "\n",
      "        [[1., 1., 1., 1., 1.],\n",
      "         [1., 1., 1., 1., 1.],\n",
      "         [1., 1., 1., 1., 1.],\n",
      "         [1., 1., 1., 1., 1.]]])\n"
     ]
    }
   ],
   "source": [
    "x = torch.ones(3,4,5)\n",
    "seq_len = x.shape[0]\n",
    "batch_size = x.shape[1]\n",
    "x_dim = x.shape[2]\n",
    "x_tm1 = torch.cat((torch.zeros(1, batch_size, x_dim), x[1:,:,:]), 0)\n",
    "print(x_tm1.shape)\n",
    "print(x_tm1)\n"
   ]
  },
  {
   "cell_type": "code",
   "execution_count": 2,
   "metadata": {},
   "outputs": [
    {
     "data": {
      "text/plain": [
       "1575.5678173590402"
      ]
     },
     "execution_count": 2,
     "metadata": {},
     "output_type": "execute_result"
    }
   ],
   "source": [
    "32*50*np.log(np.pi) - 32*16/2"
   ]
  },
  {
   "cell_type": "code",
   "execution_count": null,
   "metadata": {},
   "outputs": [],
   "source": []
  }
 ],
 "metadata": {
  "kernelspec": {
   "display_name": "Python [conda env:rvae]",
   "language": "python",
   "name": "conda-env-rvae-py"
  },
  "language_info": {
   "codemirror_mode": {
    "name": "ipython",
    "version": 3
   },
   "file_extension": ".py",
   "mimetype": "text/x-python",
   "name": "python",
   "nbconvert_exporter": "python",
   "pygments_lexer": "ipython3",
   "version": "3.7.3"
  }
 },
 "nbformat": 4,
 "nbformat_minor": 4
}
