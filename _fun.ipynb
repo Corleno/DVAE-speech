{
 "cells": [
  {
   "cell_type": "code",
   "execution_count": 1,
   "metadata": {},
   "outputs": [
    {
     "ename": "ModuleNotFoundError",
     "evalue": "No module named 'pystoi'",
     "output_type": "error",
     "traceback": [
      "\u001b[0;31m---------------------------------------------------------------------------\u001b[0m",
      "\u001b[0;31mModuleNotFoundError\u001b[0m                       Traceback (most recent call last)",
      "\u001b[0;32m<ipython-input-1-43bcf5318b75>\u001b[0m in \u001b[0;36m<module>\u001b[0;34m\u001b[0m\n\u001b[1;32m      8\u001b[0m \u001b[0;32mfrom\u001b[0m \u001b[0mbuild_model\u001b[0m \u001b[0;32mimport\u001b[0m \u001b[0mbuild_model\u001b[0m\u001b[0;34m\u001b[0m\u001b[0;34m\u001b[0m\u001b[0m\n\u001b[1;32m      9\u001b[0m \u001b[0;32mfrom\u001b[0m \u001b[0mevaluation\u001b[0m\u001b[0;34m.\u001b[0m\u001b[0mloss_mse\u001b[0m \u001b[0;32mimport\u001b[0m \u001b[0mrmse_td\u001b[0m\u001b[0;34m,\u001b[0m \u001b[0mrmse_fd\u001b[0m\u001b[0;34m,\u001b[0m \u001b[0mrmse_frame\u001b[0m\u001b[0;34m\u001b[0m\u001b[0;34m\u001b[0m\u001b[0m\n\u001b[0;32m---> 10\u001b[0;31m \u001b[0;32mfrom\u001b[0m \u001b[0mtest_result\u001b[0m \u001b[0;32mimport\u001b[0m \u001b[0mresynthesis\u001b[0m\u001b[0;34m\u001b[0m\u001b[0;34m\u001b[0m\u001b[0m\n\u001b[0m",
      "\u001b[0;32m~/WorkStation/Project_rvae/rvae-speech/test_result.py\u001b[0m in \u001b[0;36m<module>\u001b[0;34m\u001b[0m\n\u001b[1;32m     21\u001b[0m \u001b[0;32mfrom\u001b[0m \u001b[0mevaluation\u001b[0m\u001b[0;34m.\u001b[0m\u001b[0mwrite_eval\u001b[0m \u001b[0;32mimport\u001b[0m \u001b[0mwrite_eval\u001b[0m\u001b[0;34m,\u001b[0m \u001b[0mwrite_eval_latex\u001b[0m\u001b[0;34m\u001b[0m\u001b[0;34m\u001b[0m\u001b[0m\n\u001b[1;32m     22\u001b[0m \u001b[0;32mfrom\u001b[0m \u001b[0mevaluation\u001b[0m\u001b[0;34m.\u001b[0m\u001b[0mloss_mse\u001b[0m \u001b[0;32mimport\u001b[0m \u001b[0mrmse_td\u001b[0m\u001b[0;34m,\u001b[0m \u001b[0mrmse_fd\u001b[0m\u001b[0;34m,\u001b[0m \u001b[0mrmse_frame\u001b[0m\u001b[0;34m\u001b[0m\u001b[0;34m\u001b[0m\u001b[0m\n\u001b[0;32m---> 23\u001b[0;31m \u001b[0;32mfrom\u001b[0m \u001b[0mevaluation\u001b[0m\u001b[0;34m.\u001b[0m\u001b[0mloss_stoi\u001b[0m \u001b[0;32mimport\u001b[0m \u001b[0mstoi\u001b[0m\u001b[0;34m\u001b[0m\u001b[0;34m\u001b[0m\u001b[0m\n\u001b[0m\u001b[1;32m     24\u001b[0m \u001b[0;34m\u001b[0m\u001b[0m\n\u001b[1;32m     25\u001b[0m \u001b[0;34m\u001b[0m\u001b[0m\n",
      "\u001b[0;32m~/WorkStation/Project_rvae/rvae-speech/evaluation/loss_stoi.py\u001b[0m in \u001b[0;36m<module>\u001b[0;34m\u001b[0m\n\u001b[1;32m     11\u001b[0m \u001b[0msys\u001b[0m\u001b[0;34m.\u001b[0m\u001b[0mpath\u001b[0m\u001b[0;34m.\u001b[0m\u001b[0mappend\u001b[0m\u001b[0;34m(\u001b[0m\u001b[0mos\u001b[0m\u001b[0;34m.\u001b[0m\u001b[0mgetcwd\u001b[0m\u001b[0;34m(\u001b[0m\u001b[0;34m)\u001b[0m\u001b[0;34m)\u001b[0m\u001b[0;34m\u001b[0m\u001b[0;34m\u001b[0m\u001b[0m\n\u001b[1;32m     12\u001b[0m \u001b[0;32mimport\u001b[0m \u001b[0mnumpy\u001b[0m \u001b[0;32mas\u001b[0m \u001b[0mnp\u001b[0m\u001b[0;34m\u001b[0m\u001b[0;34m\u001b[0m\u001b[0m\n\u001b[0;32m---> 13\u001b[0;31m \u001b[0;32mimport\u001b[0m \u001b[0mpystoi\u001b[0m\u001b[0;34m.\u001b[0m\u001b[0mstoi\u001b[0m \u001b[0;32mas\u001b[0m \u001b[0mst\u001b[0m\u001b[0;34m\u001b[0m\u001b[0;34m\u001b[0m\u001b[0m\n\u001b[0m\u001b[1;32m     14\u001b[0m \u001b[0;32mimport\u001b[0m \u001b[0msoundfile\u001b[0m \u001b[0;32mas\u001b[0m \u001b[0msf\u001b[0m\u001b[0;34m\u001b[0m\u001b[0;34m\u001b[0m\u001b[0m\n\u001b[1;32m     15\u001b[0m \u001b[0;34m\u001b[0m\u001b[0m\n",
      "\u001b[0;31mModuleNotFoundError\u001b[0m: No module named 'pystoi'"
     ]
    }
   ],
   "source": [
    "import IPython.display as ipd\n",
    "import os\n",
    "import sys\n",
    "sys.path.append(os.path.join(os.getcwd(), 'evaluation'))\n",
    "import numpy as np\n",
    "import matplotlib.pyplot as plt\n",
    "import torch\n",
    "import soundfile as sf\n",
    "import librosa\n",
    "from build_model import build_model\n",
    "from evaluation.loss_mse import rmse_td, rmse_fd, rmse_frame\n",
    "from test_result import resynthesis"
   ]
  },
  {
   "cell_type": "code",
   "execution_count": 2,
   "metadata": {},
   "outputs": [],
   "source": [
    "root_dir = '/Users/xiaoyu/WorkStation/Project_rvae/test_eval'\n",
    "cfg_file = os.path.join(root_dir, 'config.ini')\n",
    "w_file = os.path.join(root_dir, 'RVAE_final_epoch115.pt')\n",
    "audio_file_list = ['/Users/xiaoyu/WorkStation/Project_rvae/Data/clean_speech/wsj0_si_et_05/440/440c0201.wav']"
   ]
  },
  {
   "cell_type": "code",
   "execution_count": 3,
   "metadata": {},
   "outputs": [
    {
     "data": {
      "text/plain": [
       "<Figure size 432x288 with 0 Axes>"
      ]
     },
     "metadata": {},
     "output_type": "display_data"
    }
   ],
   "source": [
    "result_dir, _ = resynthesis(cfg_file, w_file, audio_file_list)\n",
    "\n",
    "print(result_dir)"
   ]
  },
  {
   "cell_type": "code",
   "execution_count": 3,
   "metadata": {},
   "outputs": [],
   "source": [
    "file_orig = os.path.join(root_dir, 'audio_orig.wav')\n",
    "file_recon = os.path.join(root_dir, 'audio_recon.wav')\n",
    "x, _ = sf.read(file_orig)\n",
    "x_recon, _ = sf.read(file_recon)\n",
    "\n",
    "\n",
    "wlen_sec = 64e-3\n",
    "hop_percent = 0.25\n",
    "fs = 16000\n",
    "nfft = np.int(np.power(2, np.ceil(np.log2(wlen_sec * fs))))\n",
    "# window length <= nfft (equal to nfft by default)\n",
    "wlen = nfft\n",
    "# hop: number of audio samples between adjacent STFT columns\n",
    "hop = np.int(hop_percent * wlen)\n",
    "# a vector or array of length nfft (sin function, 0 ~ pi)\n",
    "win = np.sin(np.arange(0.5, wlen+0.5) / wlen * np.pi)\n",
    "\n",
    "print(rmse_td(x, x_recon))\n",
    "print(rmse_fd(x, x_recon, wlen_sec, nfft, hop, wlen, win))\n",
    "print(rmse_frame(x, x_recon, nfft, win))"
   ]
  },
  {
   "cell_type": "code",
   "execution_count": 7,
   "metadata": {},
   "outputs": [
    {
     "data": {
      "text/plain": [
       "False"
      ]
     },
     "execution_count": 7,
     "metadata": {},
     "output_type": "execute_result"
    }
   ],
   "source": [
    "from configparser import ConfigParser\n",
    "class myconf(ConfigParser):\n",
    "    def __init__(self,defaults=None):\n",
    "        ConfigParser.__init__(self,defaults=None)\n",
    "    def optionxform(self, optionstr):\n",
    "        return optionstr\n",
    "    \n",
    "cfg_file = '/Users/xiaoyu/WorkStation/Project_rvae/rvae-speech/config/cfg_debug_storn.ini'\n",
    "cfg = myconf()\n",
    "cfg.read(cfg_file)\n",
    "cfg.has_option('Network', 'tag')\n"
   ]
  },
  {
   "cell_type": "code",
   "execution_count": 42,
   "metadata": {},
   "outputs": [],
   "source": [
    "import torch \n",
    "import torch.nn as nn\n",
    "import numpy as np\n",
    "SEED = 0\n",
    "torch.manual_seed(SEED)\n",
    "torch.cuda.manual_seed(SEED)\n",
    "np.random.seed(SEED)"
   ]
  },
  {
   "cell_type": "code",
   "execution_count": 43,
   "metadata": {},
   "outputs": [],
   "source": [
    "a = np.array([0,0,0,0])\n",
    "b = np.array([1,1,1,1])\n",
    "mean = torch.as_tensor(a, dtype=torch.float32)\n",
    "sig = torch.as_tensor(b, dtype=torch.float32)"
   ]
  },
  {
   "cell_type": "code",
   "execution_count": 91,
   "metadata": {},
   "outputs": [
    {
     "name": "stdout",
     "output_type": "stream",
     "text": [
      "tensor([ 1.5410, -0.2934, -2.1788,  0.5684])\n",
      "tensor([-1.0845, -1.3986,  0.4033,  0.8380])\n",
      "tensor([-0.7193, -0.4033, -0.5966,  0.1820])\n"
     ]
    }
   ],
   "source": [
    "SEED = 0\n",
    "torch.manual_seed(SEED)\n",
    "torch.cuda.manual_seed(SEED)\n",
    "print(torch.normal(mean,sig))\n",
    "print(torch.randn_like(mean).mul(sig).add_(mean))\n",
    "print(torch.randn_like(mean))"
   ]
  },
  {
   "cell_type": "code",
   "execution_count": 80,
   "metadata": {},
   "outputs": [
    {
     "data": {
      "text/plain": [
       "array([-0.97727788])"
      ]
     },
     "execution_count": 80,
     "metadata": {},
     "output_type": "execute_result"
    }
   ],
   "source": [
    "\n",
    "np.random.randn(1)"
   ]
  },
  {
   "cell_type": "code",
   "execution_count": null,
   "metadata": {},
   "outputs": [],
   "source": []
  }
 ],
 "metadata": {
  "kernelspec": {
   "display_name": "Python [conda env:rvae]",
   "language": "python",
   "name": "conda-env-rvae-py"
  }
 },
 "nbformat": 4,
 "nbformat_minor": 4
}
